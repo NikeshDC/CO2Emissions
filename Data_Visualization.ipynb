{
  "nbformat": 4,
  "nbformat_minor": 0,
  "metadata": {
    "colab": {
      "provenance": []
    },
    "kernelspec": {
      "name": "python3",
      "display_name": "Python 3"
    },
    "language_info": {
      "name": "python"
    }
  },
  "cells": [
    {
      "cell_type": "code",
      "source": [
        "import pandas as pd\n",
        "import numpy as np\n",
        "import matplotlib.pyplot as plt\n",
        "import seaborn as sns"
      ],
      "metadata": {
        "id": "p4upqRSAagma"
      },
      "execution_count": null,
      "outputs": []
    },
    {
      "cell_type": "code",
      "source": [
        "df1=pd.read_csv(\"co2emisson.csv\")\n",
        "populationdf=pd.read_csv(\"Population.csv\")\n",
        "gdpdf=pd.read_csv(\"GDP.csv\")"
      ],
      "metadata": {
        "id": "zUAgfaN6ajs7"
      },
      "execution_count": null,
      "outputs": []
    },
    {
      "cell_type": "code",
      "source": [
        "df4=df1.pivot(index='country_name',columns='year',values='value')\n",
        "df5=pd.DataFrame({\n",
        "    'country_name':df1['country_name'],\n",
        "    'country_code':df1['country_code']\n",
        "    })\n",
        "df5=df5.drop_duplicates()\n",
        "df5.head()\n",
        "co2df=df5.merge(df4,on='country_name',how='right')"
      ],
      "metadata": {
        "id": "CbEeOLuSaj0Q"
      },
      "execution_count": null,
      "outputs": []
    },
    {
      "cell_type": "code",
      "source": [
        "populationdf=populationdf.rename(columns={'Country Name':'country_name','Country Code':'country_code'})\n",
        "for columns in co2df.columns:\n",
        "    co2df=co2df.rename(columns={columns:str(columns)})"
      ],
      "metadata": {
        "id": "kbYuKHmvaj3N"
      },
      "execution_count": null,
      "outputs": []
    },
    {
      "cell_type": "code",
      "source": [
        "year=co2df.columns[3:-1]\n",
        "\n",
        "len(year)"
      ],
      "metadata": {
        "id": "1iMcBb7Gaj5n"
      },
      "execution_count": null,
      "outputs": []
    },
    {
      "cell_type": "code",
      "source": [
        "co2df.head()\n",
        "sum=[]\n",
        "for i in year:\n",
        "    sum.append(co2df[i].sum())\n",
        "len(sum)\n",
        "plt.figure(figsize=(15,10));\n",
        "plt.scatter(year,sum)\n",
        "plt.xticks(rotation=90);\n",
        "plt.title('World c02 emission per year');"
      ],
      "metadata": {
        "id": "Oo2FoPT_aj8G"
      },
      "execution_count": null,
      "outputs": []
    },
    {
      "cell_type": "code",
      "source": [
        "df=pd.merge(populationdf,co2df,on=['country_code','country_name'],suffixes=('_pop','_co2'))"
      ],
      "metadata": {
        "id": "SZMouiEmaj-W"
      },
      "execution_count": null,
      "outputs": []
    },
    {
      "cell_type": "code",
      "source": [
        "df.head()"
      ],
      "metadata": {
        "id": "ForRGBOfakAr"
      },
      "execution_count": null,
      "outputs": []
    },
    {
      "cell_type": "code",
      "source": [
        "for i in range(1960, 2019):\n",
        "    df[f'{i}'] = df[f'{i}_co2']/df[f'{i}_pop']"
      ],
      "metadata": {
        "id": "xb05qeFlakDG"
      },
      "execution_count": null,
      "outputs": []
    },
    {
      "cell_type": "code",
      "source": [
        "df_clean=df.dropna()\n",
        "df_clean.head()"
      ],
      "metadata": {
        "id": "SKHs-ZwEakFg"
      },
      "execution_count": null,
      "outputs": []
    },
    {
      "cell_type": "code",
      "source": [
        "for i in range(1960, 2019):\n",
        "    df_clean[f'{i}'] = df_clean[f'{i}_co2']/df_clean[f'{i}_pop']\n",
        "    mean=df_clean[f'{i}'].mean()\n",
        "    std=df_clean[f'{i}'].std()\n",
        "    df_clean[f'{i}_norm']=(df_clean[f'{i}']-mean)/std"
      ],
      "metadata": {
        "id": "6woHoIFRakHx"
      },
      "execution_count": null,
      "outputs": []
    },
    {
      "cell_type": "code",
      "source": [
        "df_clean.head()"
      ],
      "metadata": {
        "id": "SNaFIg7FakKX"
      },
      "execution_count": null,
      "outputs": []
    },
    {
      "cell_type": "code",
      "source": [
        "for i in range(1960, 2022):\n",
        "    # if f'{i}'in df_clean.columns :\n",
        "    #     df_clean = df_clean.drop([ f'{i}'],axis=1)\n",
        "    if f'{i}_pop' in df_clean.columns :\n",
        "        df_clean = df_clean.drop([ f'{i}_pop'],axis=1)\n",
        "    # if f'{i}_co2' in df_clean.columns :\n",
        "    #     df_clean = df_clean.drop([ f'{i}_co2'],axis=1)\n",
        "df_clean.head()\n",
        ""
      ],
      "metadata": {
        "id": "RldJba-HakM9"
      },
      "execution_count": null,
      "outputs": []
    },
    {
      "cell_type": "code",
      "source": [
        "df_clean['difference']=df_clean['2018_norm']-df_clean['1960_norm']\n",
        "mean=df_clean['difference'].mean()\n",
        "std=df_clean['difference'].std()\n",
        "df_clean['difference_norm']=(df_clean['difference']-mean)/std\n",
        "df_clean['sum']=df_clean.loc[:,'1960_norm':'2018_norm'].sum(axis=1)\n",
        "mean=df_clean['sum'].mean()\n",
        "std=df_clean['sum'].std()\n",
        "df_clean['sum_norm']=(df_clean['sum']-mean)/std"
      ],
      "metadata": {
        "id": "Etk3uTucakPt"
      },
      "execution_count": null,
      "outputs": []
    },
    {
      "cell_type": "code",
      "source": [
        "df_change=df_clean[['country_name','difference_norm','2018_norm','1960_norm','sum','sum_norm']]\n",
        "df_change=df_change.drop(df_change[(df_change['difference_norm'] > -3) & (df_change['difference_norm'] < 3)].index)\n",
        "plt.bar(df_change['country_name'],df_change['difference_norm'])\n",
        "plt.title(\"Country with co2 per population change from 1960-2018\")"
      ],
      "metadata": {
        "id": "9ZTdK21KakSr"
      },
      "execution_count": null,
      "outputs": []
    },
    {
      "cell_type": "code",
      "source": [
        "df_alldata=df_clean.loc[[i for i in df_change.index],['country_name']+[f'{i}_norm' for i in range(1960,2019)]]"
      ],
      "metadata": {
        "id": "oVXIiecpakVe"
      },
      "execution_count": null,
      "outputs": []
    },
    {
      "cell_type": "code",
      "source": [
        "year=np.arange(1960,2019)\n",
        "fig,ax=plt.subplots()\n",
        "colors = ['red', 'green', 'blue', 'yellow', 'black']\n",
        "for i in range(1,5):\n",
        "    ax.scatter(year, df_alldata.iloc[i,1:], c=colors[i], label=df_alldata.iloc[i,0])\n",
        "ax.legend()\n",
        "plt.show()"
      ],
      "metadata": {
        "id": "95PWMb2lakYD"
      },
      "execution_count": null,
      "outputs": []
    },
    {
      "cell_type": "code",
      "source": [
        "df_change=df_clean[['country_name','difference_norm','2018_norm','1960_norm','sum','sum_norm']]\n",
        "df_change=df_change.drop(df_change[(df_change['sum_norm'] > -3) & (df_change['sum_norm'] <3)].index)\n",
        "df_change"
      ],
      "metadata": {
        "id": "4b2m5DAPakat"
      },
      "execution_count": null,
      "outputs": []
    },
    {
      "cell_type": "code",
      "source": [
        "df_change=df_clean[['country_name','difference_norm','2018_norm','1960_norm','sum','sum_norm']]\n",
        "df_change=df_change.drop(df_change[(df_change['sum_norm'] > -3) & (df_change['sum_norm'] <3)].index)\n",
        "df_change"
      ],
      "metadata": {
        "id": "NiMYVdhgakdX"
      },
      "execution_count": null,
      "outputs": []
    },
    {
      "cell_type": "code",
      "source": [
        "df_alldata=df_clean.loc[[i for i in df_change.index],['country_name']+[f'{i}_norm' for i in range(1960,2019)]]\n",
        "year=np.arange(1960,2019)\n",
        "fig,ax=plt.subplots()\n",
        "colors = ['red', 'green', 'blue', 'yellow', 'black']\n",
        "for i in range(len(df_alldata.index)):\n",
        "    ax.scatter(year, df_alldata.iloc[i,1:], c=colors[i], label=df_alldata.iloc[i,0])\n",
        "ax.legend()\n",
        "plt.title(\"Country with relativey high co2 per population from 1960-2018\")\n",
        "\n",
        "plt.show()"
      ],
      "metadata": {
        "id": "1jIdF1I8akgK"
      },
      "execution_count": null,
      "outputs": []
    },
    {
      "cell_type": "code",
      "source": [
        "df_alldata=df_clean.loc[[i for i in df_change.index],['country_name']+[f'{i}_co2' for i in range(1960,2019)]]\n",
        "year=np.arange(1960,2019)\n",
        "fig,ax=plt.subplots()\n",
        "colors = ['red', 'green', 'blue', 'yellow', 'black']\n",
        "for i in range(len(df_alldata.index)):\n",
        "    ax.scatter(year, df_alldata.iloc[i,1:], c=colors[i], label=df_alldata.iloc[i,0])\n",
        "ax.legend()\n",
        "plt.show()"
      ],
      "metadata": {
        "id": "Z2ntPHOvbH_R"
      },
      "execution_count": null,
      "outputs": []
    },
    {
      "cell_type": "code",
      "source": [],
      "metadata": {
        "id": "BbOYTuIsbIHd"
      },
      "execution_count": null,
      "outputs": []
    },
    {
      "cell_type": "markdown",
      "source": [
        "\n",
        "\n",
        "\n",
        "#Data Generation\n",
        "\n",
        "\n"
      ],
      "metadata": {
        "id": "61CzA8XtbUcA"
      }
    },
    {
      "cell_type": "code",
      "execution_count": null,
      "metadata": {
        "id": "3wYsSr2o2xBj"
      },
      "outputs": [],
      "source": [
        "!pip install jupyter-dash"
      ]
    },
    {
      "cell_type": "code",
      "source": [
        "import plotly.graph_objects as go\n",
        "import plotly.express as px\n",
        "import pandas\n",
        "from jupyter_dash import JupyterDash\n",
        "from dash import html, dcc\n",
        "from dash.dependencies import Input, Output\n",
        "\n",
        "df = pandas.read_csv('co2_added.csv')\n",
        "\n",
        "'''fig = px.line(df, x=\"year\", y=\"value\", color='country_name', markers = True,\n",
        "      labels=dict(year=\"Year\", value=\"CO2 emissions\", country_name=\"Country\"))\n",
        "fig.show()'''\n",
        "\n",
        "\n",
        "'''start_year = 1980\n",
        "end_year = 1990\n",
        "heatmapScale = 'WorldContribution'\n",
        "\n",
        "df_year = df.loc[(df['year'] >= start_year) & (df['year'] <= end_year)]\n",
        "df_yearss = df_year.groupby('country_code')\n",
        "if heatmapScale == 'WorldContribution':\n",
        "      z_val =  df_yearss['percentageWorld'].mean()\n",
        "else:\n",
        "      z_val = df_yearss['percentageCountryMax'].mean()\n",
        "\n",
        "fig  = go.Figure(data=go.Choropleth(\n",
        "                locations=df_year['country_name'], # Spatial coordinates\n",
        "                z = z_val, # Data to be color-coded\n",
        "                locationmode = 'country names', # set of locations match entries in locations\n",
        "                colorscale = \"plasma\"\n",
        "                # colorbar_title = \"value\",\n",
        "                )\n",
        "            )\n",
        "fig.show()'''\n",
        "\n",
        "##for year range selection\n",
        "max_year = df['year'].max()\n",
        "min_year = df['year'].min()\n",
        "#print(max_year)\n",
        "#print(min_year)\n",
        "\n",
        "##for country dropdown\n",
        "countries = df['country_name'].unique()\n",
        "#print(countries)\n",
        "\n",
        "##for heatmap plot dropdown\n",
        "heatMapScales = ['WorldContribution', 'CountryMaximum']\n",
        "\n",
        "##for color options available for heatmap\n",
        "heatMapColors = [ {'label': c, 'value': c} for c in px.colors.named_colorscales()]\n",
        "\n",
        "\n",
        "app = JupyterDash(__name__,assets_external_path='./content/style.css')\n",
        "app.layout = html.Div(\n",
        "                 ##style for the main div\n",
        "                 style={\n",
        "                     'background-color': 'lightblue',\n",
        "                      'border': 'solid black 1px',\n",
        "                      'width': '1900px',\n",
        "                      # 'block-size': '50px',\n",
        "                       'display':'flex',\n",
        "                       'flex-direction': 'column',\n",
        "                      # 'width':'50',\n",
        "                      #  'justify-content': 'center',\n",
        "                      #  'align-items': 'center',\n",
        "                      #  'backgroundColor':'mintGreen'\n",
        "                       },\n",
        "                children= [\n",
        "                    html.H1(\"CO2 Emission Visualization\"),\n",
        "                    html.Div(style={\n",
        "                                'display':'flex',\n",
        "                                'flex-direction': 'column',\n",
        "                                'border': 'solid black 1px',\n",
        "                                'width': '1900px',},\n",
        "                             children=[\n",
        "                ##country-trend\n",
        "                html.Div(className = \"countryTrend\",\n",
        "                         style={'display':'flex',\n",
        "                                'flex-direction': 'column',\n",
        "                                'border': 'solid black 1px',\n",
        "                                'width': '1900px',},\n",
        "                         children=[\n",
        "                    #graph\n",
        "                    html.Div(\n",
        "                        children = [html.H1(\"Country-wise Emission Trend\"),\n",
        "\n",
        "                                    dcc.Graph(id='country-trend')])\n",
        "                    ,\n",
        "                    ##country selector for trend\n",
        "                    dcc.Dropdown(countries, [countries[0]],\n",
        "                                #  style={'background-color':'black','color': 'LightGreen', 'font-size': 20,'width':'10'},\n",
        "                                 multi=True, id = \"country-selector\")\n",
        "                    ]),\n",
        "\n",
        "                ##world-map\n",
        "                html.Div(style={\n",
        "                                'display':'flex',\n",
        "                                'flex-direction': 'column',\n",
        "                                'border': 'solid black 1px',\n",
        "                                'width': '1900px',\n",
        "                                # 'blockSize':'800px'\n",
        "                                },\n",
        "                         children=[\n",
        "                    ##map\n",
        "                    html.Div(\n",
        "                        children = [html.H1(\"Global Contribution\"),\n",
        "                                    ##Range for years\n",
        "                #starting year\n",
        "                html.Div([\n",
        "                    html.Label(\"Year\"),\n",
        "                    dcc.Input( id=\"start-year\", type='number', value = 2016, placeholder=\"Year\"),\n",
        "                    # dcc.Input( id=\"end-year\", type='number', placeholder=\"End Year\")\n",
        "                    ]),\n",
        "\n",
        "                                    dcc.Graph(id='world-map',\n",
        "                                            style={'height':'900px'})])\n",
        "                    ,\n",
        "                    ##colorscale for heatmap\n",
        "                    html.Label(\"Colorscale\"),\n",
        "                    dcc.Dropdown(id='colorscale-dropdown', clearable=False, value='mint', options= heatMapColors,\n",
        "                                 style={\n",
        "                                     'width': '250px',\n",
        "                                 }),\n",
        "                    ##heatmapScale\n",
        "                    html.Label(\"PercentageBy:\"),\n",
        "                    dcc.Dropdown(heatMapScales, heatMapScales[0], clearable = False, id = \"heatmapscale-selector\",\n",
        "                                 style={\n",
        "                                     'width': '250px',\n",
        "                                 })\n",
        "                    ]),\n",
        "\n",
        "                             ])\n",
        "                ,\n",
        "\n",
        "                ],\n",
        "\n",
        "\n",
        "\n",
        "            )\n",
        "\n",
        "\n",
        "#callback to update worldmap for colorscale and heatmapscale change\n",
        "@app.callback(\n",
        "    Output('world-map', 'figure'),\n",
        "    Input(\"colorscale-dropdown\", \"value\"),\n",
        "    Input(\"heatmapscale-selector\", \"value\"),\n",
        "    Input(\"start-year\", \"value\"),\n",
        "    # Input(\"end-year\",\"value\"),\n",
        ")\n",
        "def update_world_map(colorvalue, heatmapScale, start_year):\n",
        "    df_year = df.loc[(df['year'] == start_year)]\n",
        "    # df_year_group = df_year.groupby('country_name')\n",
        "    if heatmapScale == 'WorldContribution':\n",
        "      z_val =  df_year['percentageWorld'] * 100\n",
        "    else:\n",
        "      z_val = df_year['percentageCountryMax'] * 100\n",
        "    #df_year_group.reset_index()\n",
        "    fig  = go.Figure(data=go.Choropleth(\n",
        "                locations=df_year['country_name'], # Spatial coordinates\n",
        "                z = z_val, # Data to be color-coded\n",
        "                locationmode = 'country names', # set of locations match entries in locations\n",
        "                colorscale = colorvalue\n",
        "                # colorbar_title = \"value\",\n",
        "                )\n",
        "            )\n",
        "    return fig\n",
        "\n",
        "\n",
        "#callback to update country-trend graph\n",
        "@app.callback(\n",
        "    Output('country-trend', 'figure'),\n",
        "    [Input('country-selector', 'value')],)\n",
        "def update_country_trend(selected_countries):\n",
        "    print(\"Hello inside\")\n",
        "    df_country_selected = df.loc[df['country_name'].isin(selected_countries) ]\n",
        "    ##fig = px.line(df_country_selected, x=\"year\", y=\"value\", color='country_name', markers = False)\n",
        "    if len(selected_countries) < 10:\n",
        "      fig = px.line(df_country_selected, x=\"year\", y=\"value\", color='country_name', markers = True,\n",
        "                    labels=dict(year=\"Year\", value=\"CO2 emissions\", country_name=\"Country\"))\n",
        "    else:\n",
        "      fig = px.line(df_country_selected, x=\"year\", y=\"value\", color='country_name', markers = False,\n",
        "                    labels=dict(year=\"Year\", value=\"CO2 emissions\", country_name=\"Country\"))\n",
        "    return fig\n",
        "\n",
        "\n",
        "# Run app and display result inline in the notebook\n",
        "if __name__== \"__main__\":\n",
        "  app.run_server(mode='external', debug=True)\n",
        "  pass"
      ],
      "metadata": {
        "colab": {
          "base_uri": "https://localhost:8080/",
          "height": 52
        },
        "id": "18FfQ0K08K7x",
        "outputId": "e4d7e186-39b5-4a81-cf92-ee9b253df212"
      },
      "execution_count": null,
      "outputs": [
        {
          "output_type": "stream",
          "name": "stdout",
          "text": [
            "Dash app running on:\n"
          ]
        },
        {
          "output_type": "display_data",
          "data": {
            "text/plain": [
              "<IPython.core.display.Javascript object>"
            ],
            "application/javascript": [
              "(async (port, path, text, element) => {\n",
              "    if (!google.colab.kernel.accessAllowed) {\n",
              "      return;\n",
              "    }\n",
              "    element.appendChild(document.createTextNode(''));\n",
              "    const url = await google.colab.kernel.proxyPort(port);\n",
              "    const anchor = document.createElement('a');\n",
              "    anchor.href = new URL(path, url).toString();\n",
              "    anchor.target = '_blank';\n",
              "    anchor.setAttribute('data-href', url + path);\n",
              "    anchor.textContent = text;\n",
              "    element.appendChild(anchor);\n",
              "  })(8050, \"/\", \"http://127.0.0.1:8050/\", window.element)"
            ]
          },
          "metadata": {}
        }
      ]
    }
  ]
}